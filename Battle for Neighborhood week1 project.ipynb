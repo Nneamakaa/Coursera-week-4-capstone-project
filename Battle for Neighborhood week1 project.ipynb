{
  "nbformat": 4,
  "nbformat_minor": 0,
  "metadata": {
    "colab": {
      "name": "Untitled1.ipynb",
      "version": "0.3.2",
      "provenance": [],
      "include_colab_link": true
    },
    "kernelspec": {
      "name": "python3",
      "display_name": "Python 3"
    }
  },
  "cells": [
    {
      "cell_type": "markdown",
      "metadata": {
        "id": "view-in-github",
        "colab_type": "text"
      },
      "source": [
        "<a href=\"https://colab.research.google.com/github/Emekaborisama/Capstone-Project-Week4-/blob/master/Battle%20for%20Neighborhood%20week1.ipynb\" target=\"_parent\"><img src=\"https://colab.research.google.com/assets/colab-badge.svg\" alt=\"Open In Colab\"/></a>"
      ]
    },
    {
      "metadata": {
        "id": "y3_eMQI9wTnk",
        "colab_type": "code",
        "colab": {}
      },
      "cell_type": "code",
      "source": [
        ""
      ],
      "execution_count": 0,
      "outputs": []
    },
    {
      "metadata": {
        "id": "UkbTTYE5wbMk",
        "colab_type": "text"
      },
      "cell_type": "markdown",
      "source": [
        "For this week, you will required to submit the following:\n",
        "\n",
        "A description of the problem and a discussion of the background. (15 marks)\n",
        "A description of the data and how it will be used to solve the problem. (15 marks)\n",
        "eir own business, where would you recommend that they setup their office?"
      ]
    },
    {
      "metadata": {
        "id": "2GA-3QYjwkFu",
        "colab_type": "text"
      },
      "cell_type": "markdown",
      "source": [
        "# A description of the problem and a discussion of the background."
      ]
    },
    {
      "metadata": {
        "id": "_9i_dri_wpC_",
        "colab_type": "text"
      },
      "cell_type": "markdown",
      "source": [
        "A travel agency would like to open a new travel package to bring tourists to New York City. Before providing the new package, the travel agency would like to dig deep into New York City since they want to be differed from other travel package, and to provide an in-depth experience to its clients. So, they want to count the venues of each neighborhood and identify some distinct area and provides tour guide to walk through some of the areas with clients."
      ]
    },
    {
      "metadata": {
        "id": "CnbGpKnVw6zL",
        "colab_type": "text"
      },
      "cell_type": "markdown",
      "source": [
        "# A description of the data and how it will be used to solve the problem."
      ]
    },
    {
      "metadata": {
        "id": "w_UAvlZuw-Bo",
        "colab_type": "text"
      },
      "cell_type": "markdown",
      "source": [
        "The map data is avaiable through Foursquare API, and the neiborhood information can be found online through zipcode."
      ]
    }
  ]
}